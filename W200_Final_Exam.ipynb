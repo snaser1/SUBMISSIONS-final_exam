{
 "cells": [
  {
   "cell_type": "markdown",
   "metadata": {
    "id": "DQg2BdFIg7TM"
   },
   "source": [
    "# W200 Introduction to Data Science Programming, UC Berkeley MIDS\n",
    "\n",
    "\n",
    "## Instructions\n",
    "The final exam is designed to evaluate your grasp of Python theory as well as Python coding.\n",
    "\n",
    "- This is an individual exam.\n",
    "- You have 48 hours to complete the exam, starting from the point at which you first access it.\n",
    "- You will be graded on the quality of your answers.  Use clear, persuasive arguments based on concepts we covered in class.\n",
    "- Please double-click the markdown cells where it says \"Your answer here\" to input answers (if you need more cells please make them markdown cells)\n",
    "- Use only Python standard libraries, matplotlib, seaborn, NumPy and Pandas for this exam\n",
    "- Upload your exam to gradescope and your github repo in the folder /SUBMISSIONS/final_exam/. **The code version uploaded to Part 2 will be your official version for grading purposes.**\n",
    "- There is no autograder for this notebook - your exam will be manually graded.\n",
    "- Please restart and run all cells before submitting so that all of your answers are shown. You do not need to upload the dataset into gradescope or github."
   ]
  },
  {
   "cell_type": "markdown",
   "metadata": {
    "id": "hfJDE2HWg7TT"
   },
   "source": [
    "## Sabreena Naser"
   ]
  },
  {
   "cell_type": "markdown",
   "metadata": {
    "id": "Dxxzo-O4g7TU"
   },
   "source": [
    "## 1: Short Answer Questions (25 pts - each question = 5 pts)\n",
    "\n",
    "a) The following class ```Cart``` and method ```add_to_cart``` are parts of a larger program used by a mobile phone company.  The method ```add_to_cart``` will work when an object of type MobileDevice or of type ServiceContract is passed to it. State whether the method ```add_to_cart``` is a demonstration of the following items (yes/no) and the reasoning (1-2 sentences): \n",
    "\n",
    "    1. Inheritance\n",
    "    2. Polymorphism\n",
    "    3. Object-Oriented programming\n",
    "    4. Top-down design\n",
    "    5. Functional programming"
   ]
  },
  {
   "cell_type": "code",
   "execution_count": null,
   "metadata": {
    "id": "okLhQLwfg7TV"
   },
   "outputs": [],
   "source": [
    "# Method:\n",
    "class Cart():\n",
    "    \n",
    "    def __init__(self):\n",
    "        self.cart = []\n",
    "        self.total = 0\n",
    "    \n",
    "    def add_to_cart(self, item):\n",
    "        self.cart.append(item)\n",
    "        self.total += item.price"
   ]
  },
  {
   "cell_type": "markdown",
   "metadata": {
    "id": "syKK8Dj_g7Ta"
   },
   "source": [
    "- a) Your answer here\n",
    "\n",
    "\n",
    "1. Inheritance:\n",
    "No, the method add_to_cart does not demonstrate inheritance because inheritance defines a class that inherits all methods and properties from another class, but this method is not inheritiing any other class. \n",
    "\n",
    "\n",
    "2. Polymorphism:\n",
    "No, polymorphism is not demonstrated because in polymorphism another function is defined with the same function name with different parameters, but in this program only a single function is defined.  \n",
    "\n",
    "\n",
    "3. Object-Oriented programming:\n",
    "Yes, this is object oriented programming because the class cart is an object and contains its own function. \n",
    "\n",
    "\n",
    "4. Top-down design:\n",
    "No, this is not a top down design, a top-down approach breaks a complicated problem into smaller pieces, which is not demonstrated in this class. \n",
    "\n",
    "\n",
    "5. Functional programming: \n",
    "No, this is not functional programming because this is an object orinted progamming example. In functional programming, functions are used to perform computations, but Object oriented programming uses objects to represent and handle data. "
   ]
  },
  {
   "cell_type": "markdown",
   "metadata": {
    "id": "JdTWk7xZg7Ta"
   },
   "source": [
    "b) Suppose you have a long list of digits (0-9) that you want to write to a file.  From a storage standpoint, would it be more efficient to use ASCII or UTF-8 as an encoding? What is the most efficient way to create an even smaller file to store the information?"
   ]
  },
  {
   "cell_type": "markdown",
   "metadata": {
    "id": "UDRs-eIxg7Tb"
   },
   "source": [
    "- b) Your answer here\n",
    "It would be more efficient to use ASCII because ASCII encoding only uses one byte to represent each character, but UTF-8 may use more than one byte to represent a character. To create an even smaller file to store information, using compression techniques to compress data and reduce file size. "
   ]
  },
  {
   "cell_type": "markdown",
   "metadata": {
    "id": "RMIrgGNjg7Tc"
   },
   "source": [
    "c) How would you sanity-check your data? Why is it important to sanity-check your data before you begin your analysis? What could happen if you don't?"
   ]
  },
  {
   "cell_type": "markdown",
   "metadata": {
    "collapsed": true,
    "id": "errKkCYQg7Td"
   },
   "source": [
    "- c) Your answer here\n",
    "I would sanity-check my data by using techniques such as data visualization and data profiling. It is important to sanity-check your data before beginning analysis to ensure that it is accurate, and we can identify errors, missing values etc. Sanity checking will ensure that the results will be reliable, and if we don't do it before analysis we run the risk of obtaining inaccurate conclusions of our analysis. "
   ]
  },
  {
   "cell_type": "markdown",
   "metadata": {
    "id": "pY3aAxV-g7Te"
   },
   "source": [
    "d) How do you determine which variables in your dataset you should check for issues prior to starting an analysis? "
   ]
  },
  {
   "cell_type": "markdown",
   "metadata": {
    "collapsed": true,
    "id": "doSOqeqog7Te"
   },
   "source": [
    "- d) Your answer here\n",
    "To determine which variables you should check for issues prior to analysis, we should choose a variable that will have a high impact on the analysis, and variables of different data types will have to be checked for outliers or missing categories. Variables with a large number of missing values leads to incomplete data which can affect the accuracy of the final analysis/conclusion. "
   ]
  },
  {
   "cell_type": "markdown",
   "metadata": {
    "id": "GQjhe5avg7Tf"
   },
   "source": [
    "e1) Explain why the following code prints what it does."
   ]
  },
  {
   "cell_type": "code",
   "execution_count": 10,
   "metadata": {
    "id": "j2cQqWirg7Tg"
   },
   "outputs": [
    {
     "name": "stdout",
     "output_type": "stream",
     "text": [
      "<class 'function'>\n"
     ]
    }
   ],
   "source": [
    "def g(): pass\n",
    "print(type(g))"
   ]
  },
  {
   "cell_type": "markdown",
   "metadata": {
    "id": "YOrDq07ag7Th"
   },
   "source": [
    "- e1) Your answer here:\n",
    "\n",
    "- This code prints the output as a class 'function' because type( ) will return the type of arguement in it. In this code, g is the  type( ) function. g stores the function itself, therefore if we print the type(g), we get the output <class 'function'>"
   ]
  },
  {
   "cell_type": "markdown",
   "metadata": {
    "id": "MAs1nQZ_g7Th"
   },
   "source": [
    "e2) Explain why the following code prints something different."
   ]
  },
  {
   "cell_type": "code",
   "execution_count": 16,
   "metadata": {
    "id": "1b49c_4Ag7Ti"
   },
   "outputs": [
    {
     "name": "stdout",
     "output_type": "stream",
     "text": [
      "<class 'NoneType'>\n"
     ]
    }
   ],
   "source": [
    "def g(): pass\n",
    "print(type(g()))"
   ]
  },
  {
   "cell_type": "markdown",
   "metadata": {
    "id": "9jBjkguyg7Tj"
   },
   "source": [
    "- e2) Your answer here:\n",
    "\n",
    "- This code prints <class 'NoneType'> because we are passing the argument to the type( ) function as f( ), which is a function itself. "
   ]
  },
  {
   "cell_type": "markdown",
   "metadata": {
    "id": "jtHAe_5Pg7Tj"
   },
   "source": [
    "## 2:  General Coding Questions (15 pts - each question 5 pts)"
   ]
  },
  {
   "cell_type": "markdown",
   "metadata": {
    "id": "2EAQnoKwg7Tj"
   },
   "source": [
    "a) Using a dictionary comprehension, make a dictionary with the keys being the lowercase vowels (aeiou) and the values being the number of vowels in the example_text (case insensitive). Fill in a dictionary comprehension below so that we get this desired output.\n",
    "\n",
    "```\n",
    "example_text = 'Outlook is bright!'\n",
    "```\n",
    "\n",
    "expected output:\n",
    "```\n",
    "{'i': 2, 'o': 3, 'u': 1}\n",
    "\n",
    "or\n",
    "\n",
    "{'a': 0, 'e': 0, 'i': 2, 'o': 3, 'u': 1}\n",
    "```"
   ]
  },
  {
   "cell_type": "code",
   "execution_count": 5,
   "metadata": {
    "id": "yT_f_hhgg7Tk"
   },
   "outputs": [
    {
     "name": "stdout",
     "output_type": "stream",
     "text": [
      "{'a': 0, 'e': 1, 'i': 3, 'o': 3, 'u': 0}\n"
     ]
    }
   ],
   "source": [
    "#example_text = \"I love coding in python!\"\n",
    "\n",
    "\n",
    "# 2a) Your code here\n",
    "example_text = \"I love coding in python!\"\n",
    "example_text=example_text.lower() \n",
    "\n",
    "vowels= {}.fromkeys('aeiou',0)\n",
    "\n",
    "for i in example_text:\n",
    "    \n",
    "    if i in vowels:\n",
    "        \n",
    "        vowels[i] += 1\n",
    "\n",
    "print(vowels)"
   ]
  },
  {
   "cell_type": "markdown",
   "metadata": {
    "id": "j5v3mwmVg7Tk"
   },
   "source": [
    "b) Below is a data frame of customers that have different cooling systems. Your data science team lead wants the column ```cooling_system``` to be labeled with the integer numbers 1-4 instead of the text as shown below:\n",
    "\n",
    "- 1 = Air Conditioning / Air Con / AC\n",
    "- 2 = Heat Pump / HP\n",
    "- 3 = Evaporative Cooler / EvapCooler / EC\n",
    "- 4 = Fan\n",
    "\n",
    "Make a new column called ```cooling_type``` that maps the text values to the new numeric values. Filter out / remove rows with the values that are not included in the mapping above. Print out/display this new data frame. Be sure to list any assumptions also!"
   ]
  },
  {
   "cell_type": "code",
   "execution_count": 6,
   "metadata": {
    "id": "61EFcCtbg7Tl"
   },
   "outputs": [
    {
     "data": {
      "text/html": [
       "<div>\n",
       "<style scoped>\n",
       "    .dataframe tbody tr th:only-of-type {\n",
       "        vertical-align: middle;\n",
       "    }\n",
       "\n",
       "    .dataframe tbody tr th {\n",
       "        vertical-align: top;\n",
       "    }\n",
       "\n",
       "    .dataframe thead th {\n",
       "        text-align: right;\n",
       "    }\n",
       "</style>\n",
       "<table border=\"1\" class=\"dataframe\">\n",
       "  <thead>\n",
       "    <tr style=\"text-align: right;\">\n",
       "      <th></th>\n",
       "      <th>Cust_Number</th>\n",
       "      <th>Cooling_System</th>\n",
       "    </tr>\n",
       "  </thead>\n",
       "  <tbody>\n",
       "    <tr>\n",
       "      <th>0</th>\n",
       "      <td>101</td>\n",
       "      <td>AC</td>\n",
       "    </tr>\n",
       "    <tr>\n",
       "      <th>1</th>\n",
       "      <td>102</td>\n",
       "      <td>Heat Pump</td>\n",
       "    </tr>\n",
       "    <tr>\n",
       "      <th>2</th>\n",
       "      <td>103</td>\n",
       "      <td>Air Con</td>\n",
       "    </tr>\n",
       "    <tr>\n",
       "      <th>3</th>\n",
       "      <td>104</td>\n",
       "      <td>Air Conditioning</td>\n",
       "    </tr>\n",
       "    <tr>\n",
       "      <th>4</th>\n",
       "      <td>105</td>\n",
       "      <td>Fan</td>\n",
       "    </tr>\n",
       "    <tr>\n",
       "      <th>5</th>\n",
       "      <td>106</td>\n",
       "      <td>None</td>\n",
       "    </tr>\n",
       "    <tr>\n",
       "      <th>6</th>\n",
       "      <td>107</td>\n",
       "      <td>EvapCooler</td>\n",
       "    </tr>\n",
       "    <tr>\n",
       "      <th>7</th>\n",
       "      <td>108</td>\n",
       "      <td>None</td>\n",
       "    </tr>\n",
       "    <tr>\n",
       "      <th>8</th>\n",
       "      <td>109</td>\n",
       "      <td>EC</td>\n",
       "    </tr>\n",
       "    <tr>\n",
       "      <th>9</th>\n",
       "      <td>110</td>\n",
       "      <td>Evaporative Cooler</td>\n",
       "    </tr>\n",
       "    <tr>\n",
       "      <th>10</th>\n",
       "      <td>111</td>\n",
       "      <td>geothermal</td>\n",
       "    </tr>\n",
       "    <tr>\n",
       "      <th>11</th>\n",
       "      <td>112</td>\n",
       "      <td>8</td>\n",
       "    </tr>\n",
       "    <tr>\n",
       "      <th>12</th>\n",
       "      <td>113</td>\n",
       "      <td>Air Con</td>\n",
       "    </tr>\n",
       "  </tbody>\n",
       "</table>\n",
       "</div>"
      ],
      "text/plain": [
       "    Cust_Number      Cooling_System\n",
       "0           101                  AC\n",
       "1           102           Heat Pump\n",
       "2           103             Air Con\n",
       "3           104    Air Conditioning\n",
       "4           105                 Fan\n",
       "5           106                None\n",
       "6           107          EvapCooler\n",
       "7           108                None\n",
       "8           109                  EC\n",
       "9           110  Evaporative Cooler\n",
       "10          111          geothermal\n",
       "11          112                   8\n",
       "12          113             Air Con"
      ]
     },
     "execution_count": 6,
     "metadata": {},
     "output_type": "execute_result"
    }
   ],
   "source": [
    "import pandas\n",
    "\n",
    "# creating a data frame from scratch - list of lists\n",
    "\n",
    "data = [ \n",
    "         [101, 'AC'], \n",
    "         [102, 'Heat Pump'], \n",
    "         [103, 'Air Con'], \n",
    "         [104, 'Air Conditioning'],\n",
    "         [105, 'Fan'],\n",
    "         [106, 'None'],\n",
    "         [107, 'EvapCooler'],\n",
    "         [108, None],\n",
    "         [109, 'EC'],\n",
    "         [110, 'Evaporative Cooler'],\n",
    "         [111, 'geothermal'],\n",
    "         [112, 8],\n",
    "         [113, 'Air Con']\n",
    "       ]\n",
    "\n",
    "# create a data frame with column names - list of lists\n",
    "\n",
    "col_names = ['Cust_Number', 'Cooling_System']\n",
    "df = pandas.DataFrame(data, columns=col_names)\n",
    "df"
   ]
  },
  {
   "cell_type": "code",
   "execution_count": 9,
   "metadata": {
    "id": "E3IH8MHwg7Tl"
   },
   "outputs": [],
   "source": [
    "# 2b) Your code here\n",
    "map_dict = {\"Air Conditioning\": 1, \"Air Con\": 1, \"AC\": 1,\n",
    "            \"Heat Pump\": 2, \"HP\": 2,\n",
    "            \"Evaporative Cooler\": 3, \"EvapCooler\": 3, \"EC\": 3,\n",
    "            \"Fan\": 4}"
   ]
  },
  {
   "cell_type": "code",
   "execution_count": 10,
   "metadata": {},
   "outputs": [],
   "source": [
    "df[\"cooling_type\"] = df[\"Cooling_System\"].map(map_dict)"
   ]
  },
  {
   "cell_type": "code",
   "execution_count": 11,
   "metadata": {},
   "outputs": [],
   "source": [
    "df.dropna(inplace = True)"
   ]
  },
  {
   "cell_type": "code",
   "execution_count": 12,
   "metadata": {},
   "outputs": [],
   "source": [
    "df[\"cooling_type\"] = df[\"cooling_type\"].astype(int)"
   ]
  },
  {
   "cell_type": "code",
   "execution_count": 13,
   "metadata": {},
   "outputs": [
    {
     "data": {
      "text/html": [
       "<div>\n",
       "<style scoped>\n",
       "    .dataframe tbody tr th:only-of-type {\n",
       "        vertical-align: middle;\n",
       "    }\n",
       "\n",
       "    .dataframe tbody tr th {\n",
       "        vertical-align: top;\n",
       "    }\n",
       "\n",
       "    .dataframe thead th {\n",
       "        text-align: right;\n",
       "    }\n",
       "</style>\n",
       "<table border=\"1\" class=\"dataframe\">\n",
       "  <thead>\n",
       "    <tr style=\"text-align: right;\">\n",
       "      <th></th>\n",
       "      <th>Cust_Number</th>\n",
       "      <th>Cooling_System</th>\n",
       "      <th>cooling_type</th>\n",
       "    </tr>\n",
       "  </thead>\n",
       "  <tbody>\n",
       "    <tr>\n",
       "      <th>0</th>\n",
       "      <td>101</td>\n",
       "      <td>AC</td>\n",
       "      <td>1</td>\n",
       "    </tr>\n",
       "    <tr>\n",
       "      <th>1</th>\n",
       "      <td>102</td>\n",
       "      <td>Heat Pump</td>\n",
       "      <td>2</td>\n",
       "    </tr>\n",
       "    <tr>\n",
       "      <th>2</th>\n",
       "      <td>103</td>\n",
       "      <td>Air Con</td>\n",
       "      <td>1</td>\n",
       "    </tr>\n",
       "    <tr>\n",
       "      <th>3</th>\n",
       "      <td>104</td>\n",
       "      <td>Air Conditioning</td>\n",
       "      <td>1</td>\n",
       "    </tr>\n",
       "    <tr>\n",
       "      <th>4</th>\n",
       "      <td>105</td>\n",
       "      <td>Fan</td>\n",
       "      <td>4</td>\n",
       "    </tr>\n",
       "    <tr>\n",
       "      <th>6</th>\n",
       "      <td>107</td>\n",
       "      <td>EvapCooler</td>\n",
       "      <td>3</td>\n",
       "    </tr>\n",
       "    <tr>\n",
       "      <th>8</th>\n",
       "      <td>109</td>\n",
       "      <td>EC</td>\n",
       "      <td>3</td>\n",
       "    </tr>\n",
       "    <tr>\n",
       "      <th>9</th>\n",
       "      <td>110</td>\n",
       "      <td>Evaporative Cooler</td>\n",
       "      <td>3</td>\n",
       "    </tr>\n",
       "    <tr>\n",
       "      <th>12</th>\n",
       "      <td>113</td>\n",
       "      <td>Air Con</td>\n",
       "      <td>1</td>\n",
       "    </tr>\n",
       "  </tbody>\n",
       "</table>\n",
       "</div>"
      ],
      "text/plain": [
       "    Cust_Number      Cooling_System  cooling_type\n",
       "0           101                  AC             1\n",
       "1           102           Heat Pump             2\n",
       "2           103             Air Con             1\n",
       "3           104    Air Conditioning             1\n",
       "4           105                 Fan             4\n",
       "6           107          EvapCooler             3\n",
       "8           109                  EC             3\n",
       "9           110  Evaporative Cooler             3\n",
       "12          113             Air Con             1"
      ]
     },
     "execution_count": 13,
     "metadata": {},
     "output_type": "execute_result"
    }
   ],
   "source": [
    "df"
   ]
  },
  {
   "cell_type": "markdown",
   "metadata": {
    "id": "LzguKp3Rg7Tm"
   },
   "source": [
    "c) From the dataframe below, use groupby in Pandas to show how many total delegates were obtained grouped by state. Print this out."
   ]
  },
  {
   "cell_type": "code",
   "execution_count": 14,
   "metadata": {
    "id": "SBKSw6hsg7Tm"
   },
   "outputs": [
    {
     "data": {
      "text/html": [
       "<div>\n",
       "<style scoped>\n",
       "    .dataframe tbody tr th:only-of-type {\n",
       "        vertical-align: middle;\n",
       "    }\n",
       "\n",
       "    .dataframe tbody tr th {\n",
       "        vertical-align: top;\n",
       "    }\n",
       "\n",
       "    .dataframe thead th {\n",
       "        text-align: right;\n",
       "    }\n",
       "</style>\n",
       "<table border=\"1\" class=\"dataframe\">\n",
       "  <thead>\n",
       "    <tr style=\"text-align: right;\">\n",
       "      <th></th>\n",
       "      <th>name</th>\n",
       "      <th>delegates</th>\n",
       "      <th>color</th>\n",
       "      <th>state</th>\n",
       "    </tr>\n",
       "  </thead>\n",
       "  <tbody>\n",
       "    <tr>\n",
       "      <th>0</th>\n",
       "      <td>marco</td>\n",
       "      <td>165</td>\n",
       "      <td>blue</td>\n",
       "      <td>FL</td>\n",
       "    </tr>\n",
       "    <tr>\n",
       "      <th>1</th>\n",
       "      <td>jeb</td>\n",
       "      <td>35</td>\n",
       "      <td>red</td>\n",
       "      <td>FL</td>\n",
       "    </tr>\n",
       "    <tr>\n",
       "      <th>2</th>\n",
       "      <td>chris</td>\n",
       "      <td>0</td>\n",
       "      <td>white</td>\n",
       "      <td>NY</td>\n",
       "    </tr>\n",
       "    <tr>\n",
       "      <th>3</th>\n",
       "      <td>donald</td>\n",
       "      <td>1543</td>\n",
       "      <td>white</td>\n",
       "      <td>NY</td>\n",
       "    </tr>\n",
       "    <tr>\n",
       "      <th>4</th>\n",
       "      <td>ted</td>\n",
       "      <td>559</td>\n",
       "      <td>blue</td>\n",
       "      <td>NY</td>\n",
       "    </tr>\n",
       "    <tr>\n",
       "      <th>5</th>\n",
       "      <td>john</td>\n",
       "      <td>161</td>\n",
       "      <td>red</td>\n",
       "      <td>OH</td>\n",
       "    </tr>\n",
       "  </tbody>\n",
       "</table>\n",
       "</div>"
      ],
      "text/plain": [
       "     name  delegates  color state\n",
       "0   marco        165   blue    FL\n",
       "1     jeb         35    red    FL\n",
       "2   chris          0  white    NY\n",
       "3  donald       1543  white    NY\n",
       "4     ted        559   blue    NY\n",
       "5    john        161    red    OH"
      ]
     },
     "execution_count": 14,
     "metadata": {},
     "output_type": "execute_result"
    }
   ],
   "source": [
    "import pandas\n",
    "\n",
    "# creating a data frame from scratch - list of lists\n",
    "\n",
    "data = [ ['marco', 165, 'blue', 'FL'], \n",
    "         ['jeb', 35, 'red', 'FL'], \n",
    "         ['chris', 0, 'white', 'NY'], \n",
    "         ['donald', 1543, 'white', 'NY'],\n",
    "         ['ted', 559, 'blue', 'NY'],\n",
    "         ['john', 161, 'red', 'OH']\n",
    "       ]\n",
    "\n",
    "# create a data frame with column names - list of lists\n",
    "\n",
    "col_names = ['name', 'delegates', 'color', 'state']\n",
    "df = pandas.DataFrame(data, columns=col_names)\n",
    "df"
   ]
  },
  {
   "cell_type": "code",
   "execution_count": 15,
   "metadata": {
    "id": "KNNZmJGUg7To"
   },
   "outputs": [
    {
     "data": {
      "text/html": [
       "<div>\n",
       "<style scoped>\n",
       "    .dataframe tbody tr th:only-of-type {\n",
       "        vertical-align: middle;\n",
       "    }\n",
       "\n",
       "    .dataframe tbody tr th {\n",
       "        vertical-align: top;\n",
       "    }\n",
       "\n",
       "    .dataframe thead th {\n",
       "        text-align: right;\n",
       "    }\n",
       "</style>\n",
       "<table border=\"1\" class=\"dataframe\">\n",
       "  <thead>\n",
       "    <tr style=\"text-align: right;\">\n",
       "      <th></th>\n",
       "      <th>delegates</th>\n",
       "    </tr>\n",
       "    <tr>\n",
       "      <th>state</th>\n",
       "      <th></th>\n",
       "    </tr>\n",
       "  </thead>\n",
       "  <tbody>\n",
       "    <tr>\n",
       "      <th>FL</th>\n",
       "      <td>200</td>\n",
       "    </tr>\n",
       "    <tr>\n",
       "      <th>NY</th>\n",
       "      <td>2102</td>\n",
       "    </tr>\n",
       "    <tr>\n",
       "      <th>OH</th>\n",
       "      <td>161</td>\n",
       "    </tr>\n",
       "  </tbody>\n",
       "</table>\n",
       "</div>"
      ],
      "text/plain": [
       "       delegates\n",
       "state           \n",
       "FL           200\n",
       "NY          2102\n",
       "OH           161"
      ]
     },
     "execution_count": 15,
     "metadata": {},
     "output_type": "execute_result"
    }
   ],
   "source": [
    "# 2c) Your code here\n",
    "df.groupby(\"state\").sum()"
   ]
  },
  {
   "cell_type": "markdown",
   "metadata": {
    "id": "j0vXNb_Yg7Tp"
   },
   "source": [
    "## 3: Bitcoin coding problem (20 points):"
   ]
  },
  {
   "cell_type": "markdown",
   "metadata": {
    "id": "PWU5dtSEg7Tp"
   },
   "source": [
    "#### Bitcoin\n",
    "\n",
    "Consider a record of a one-time investment in bitcoin with value of that investment tracked monthly, provided as an (ordered) tuple of dictionaries, where each dictionary comprises one key for the month and corresponding one value for the value of the investment as of that date. (For example 31 Jan 2018 was $1200 as shown in `data` below).\n",
    "\n",
    "The initial investment is made on 1 Jan 2018 and was for $1000 (labelled 'Initial' in the `data` below).\n",
    "\n",
    "Fill in the Python function (named `bitcoin_invest` below) to take such a record of any length (the below `data` is only a sample but the full data will be in the same format), and return a dataframe comprising a row for each month with columns for date, balance, and return. **Print out/display this dataframe.**\n",
    "\n",
    "Also, visualize the record as two vertically arranged plots (there are a few ways to do this, keep it consistent over both plots). \n",
    "- The top plot should show a line plot of balance vs. month \n",
    "- The bottom plot should show a bar plot of return vs. month, with a black horizontal line at return=0, and bars color-coded such that positive returns are green and negative returns are red.  \n",
    "- The two plots' horizontal axes should align. Demonstrate that your code works by applying it to `data`.\n",
    "\n",
    "Some definitions: <br>\n",
    "- The gain for each period is the end balance minus the start balance. \n",
    "- The growth factor for each period is the end balance divided by the start balance.  \n",
    "- The return for each period is the growth factor minus 1."
   ]
  },
  {
   "cell_type": "code",
   "execution_count": 10,
   "metadata": {},
   "outputs": [],
   "source": [
    "import pandas as pd\n",
    "import matplotlib.pyplot as plt"
   ]
  },
  {
   "cell_type": "code",
   "execution_count": 11,
   "metadata": {
    "id": "nNyReUHXg7Tp"
   },
   "outputs": [
    {
     "data": {
      "text/plain": [
       "({'Initial': 1000},\n",
       " {'Jan 2018': 1200},\n",
       " {'Feb 2018': 1400},\n",
       " {'Mar 2018': 700},\n",
       " {'Apr 2018': 800},\n",
       " {'May 2018': 500})"
      ]
     },
     "execution_count": 11,
     "metadata": {},
     "output_type": "execute_result"
    }
   ],
   "source": [
    "data = ({\"Initial\": 1000}, {\"Jan 2018\":1200},{\"Feb 2018\":1400},{\"Mar 2018\":700},{\"Apr 2018\":800},{\"May 2018\":500})\n",
    "data"
   ]
  },
  {
   "cell_type": "code",
   "execution_count": 12,
   "metadata": {
    "id": "tqPVdbgkg7Tp"
   },
   "outputs": [],
   "source": [
    "# 3) Your code here\n",
    "\n",
    "def bitcoin_invest(monthly_data):\n",
    "    lst_name = []\n",
    "    lst_value = []\n",
    "    for cell in data:\n",
    "        key = list(cell.keys())[0]\n",
    "        lst_name.append(key)\n",
    "        lst_value.append(cell[key])\n",
    "    df = pd.DataFrame({\"Date\": lst_name, \"Balance\": lst_value})\n",
    "    df[\"End\"] = df[\"Balance\"].shift(-1)\n",
    "    df[\"Return\"] = df[\"End\"] / df[\"Balance\"] - 1\n",
    "    df.drop([\"End\"], axis = 1, inplace = True)\n",
    "\n",
    "    display(df)\n",
    "    df.plot(x = \"Date\", y = \"Balance\", kind = \"line\")\n",
    "    \n",
    "    ax = df.plot(x = \"Date\", y = \"Return\", kind = \"bar\",\n",
    "        color = (df[\"Return\"] > 0).map({True: 'g', False: 'r'}))\n",
    "    ax.plot([-1,6],[0,0], color = \"black\")"
   ]
  },
  {
   "cell_type": "code",
   "execution_count": 13,
   "metadata": {},
   "outputs": [
    {
     "data": {
      "text/html": [
       "<div>\n",
       "<style scoped>\n",
       "    .dataframe tbody tr th:only-of-type {\n",
       "        vertical-align: middle;\n",
       "    }\n",
       "\n",
       "    .dataframe tbody tr th {\n",
       "        vertical-align: top;\n",
       "    }\n",
       "\n",
       "    .dataframe thead th {\n",
       "        text-align: right;\n",
       "    }\n",
       "</style>\n",
       "<table border=\"1\" class=\"dataframe\">\n",
       "  <thead>\n",
       "    <tr style=\"text-align: right;\">\n",
       "      <th></th>\n",
       "      <th>Date</th>\n",
       "      <th>Balance</th>\n",
       "      <th>Return</th>\n",
       "    </tr>\n",
       "  </thead>\n",
       "  <tbody>\n",
       "    <tr>\n",
       "      <th>0</th>\n",
       "      <td>Initial</td>\n",
       "      <td>1000</td>\n",
       "      <td>0.200000</td>\n",
       "    </tr>\n",
       "    <tr>\n",
       "      <th>1</th>\n",
       "      <td>Jan 2018</td>\n",
       "      <td>1200</td>\n",
       "      <td>0.166667</td>\n",
       "    </tr>\n",
       "    <tr>\n",
       "      <th>2</th>\n",
       "      <td>Feb 2018</td>\n",
       "      <td>1400</td>\n",
       "      <td>-0.500000</td>\n",
       "    </tr>\n",
       "    <tr>\n",
       "      <th>3</th>\n",
       "      <td>Mar 2018</td>\n",
       "      <td>700</td>\n",
       "      <td>0.142857</td>\n",
       "    </tr>\n",
       "    <tr>\n",
       "      <th>4</th>\n",
       "      <td>Apr 2018</td>\n",
       "      <td>800</td>\n",
       "      <td>-0.375000</td>\n",
       "    </tr>\n",
       "    <tr>\n",
       "      <th>5</th>\n",
       "      <td>May 2018</td>\n",
       "      <td>500</td>\n",
       "      <td>NaN</td>\n",
       "    </tr>\n",
       "  </tbody>\n",
       "</table>\n",
       "</div>"
      ],
      "text/plain": [
       "       Date  Balance    Return\n",
       "0   Initial     1000  0.200000\n",
       "1  Jan 2018     1200  0.166667\n",
       "2  Feb 2018     1400 -0.500000\n",
       "3  Mar 2018      700  0.142857\n",
       "4  Apr 2018      800 -0.375000\n",
       "5  May 2018      500       NaN"
      ]
     },
     "metadata": {},
     "output_type": "display_data"
    },
    {
     "data": {
      "image/png": "[encoded data removed]",
      "text/plain": [
       "<Figure size 640x480 with 1 Axes>"
      ]
     },
     "metadata": {},
     "output_type": "display_data"
    },
    {
     "data": {
      "image/png": "[encoded data removed]",
      "text/plain": [
       "<Figure size 640x480 with 1 Axes>"
      ]
     },
     "metadata": {},
     "output_type": "display_data"
    }
   ],
   "source": [
    "bitcoin_invest(data)"
   ]
  },
  {
   "cell_type": "markdown",
   "metadata": {
    "id": "qGnnkRF9g7Tq"
   },
   "source": [
    "## 4: Clinical disease data (40 pts)\n",
    "\n",
    "Your boss comes to you Monday morning and says “I figured out our next step; we are going to pivot from an online craft store and become a data center for genetic disease information! I found **ClinVar** which is a repository that contains expert curated data, and it is free for the taking. This is a gold mine! Look at the file and tell me what gene and mutation combinations are classified as dangerous.”\n",
    "\n",
    "Make sure that you only give your boss the dangerous mutations and include:\n",
    "\n",
    "1) Gene name\n",
    "\n",
    "2) Mutation ID number\n",
    "\n",
    "3) Mutation Position (chromosome & position)\n",
    "\n",
    "4) Mutation value (reference & alternate bases)\n",
    "\n",
    "5) Clinical significance (CLNSIG)\n",
    "\n",
    "6) Disease that is implicated\n",
    "\n",
    "**Requirements**\n",
    "\n",
    "1) The deliverables are the final result as a dataframe with a short discussion of any specifics. (that is, what data you would present to your boss with the explanation of your results)\n",
    "\n",
    "2) Limit your output to the first 100 harmful mutations and tell your boss how many total harmful mutations were found in the file\n",
    "\n",
    "3) Use the instructor-modified \"clinvar_final.txt\" at this link: https://drive.google.com/file/d/1Zps0YssoJbZHrn6iLte2RDLlgruhAX1s/view?usp=sharing This file was modified to be not exactly the same as 'standard' .vcf file to test your data parsing skills. **This is a large file so do NOT upload it into your github repo!**\n",
    "\n",
    "4) Replace missing values in the dataframe with: 'Not_Given'. Print or display this (including the Not_Given count) for the column `CLNSIG` by using pandas value_counts() function (https://pandas.pydata.org/docs/reference/api/pandas.Series.value_counts.html).\n",
    "\n",
    "5) State in your answer how you define harmful mutations\n",
    "\n",
    "**6) Do your best on getting to above requirements and submit whatever you do before the deadline. If your work is incomplete be sure to describe the blockers that got in your way and how you might get past them (if given more time).**\n",
    "\n",
    "7) You can use as many code blocks as you need. Please clean-up your code and make it readable for the graders!\n",
    "\n",
    "**Hints** \n",
    "* We do not expect you to have any medical knowledge to solve this problem; look at the data, read the documentation provided, and write down your assumptions!\n",
    "\n",
    "* Correct pseudocode will give you partial credit so start with that. \n",
    "\n",
    "* Map out which fields you want to extract: Are they in the same place every time? What strategy will you use to robustly extract and filter your data of interest? How do you plan to handle missing data?\n",
    "\n",
    "* A good way to start is to print out each line, then practice parsing them to see if you can recover the fields of interest\n",
    "\n",
    "* A starting solution for parsing .vcfs can be found here: https://gist.github.com/dceoy/99d976a2c01e7f0ba1c813778f9db744 This solution does **NOT** work due to the changes we've made but can be modified to work. As with any solution that needs modifications, it may take less time to make your own solution!\n",
    "\n",
    "* Filter out junk and lines with no mutation data. Just focus on the data your need to deliver to your boss. \n",
    "\n",
    "* Pandas and NumPy parsers correctly recognize the end of each line in in the ClinVar file.\n",
    "\n",
    "* The unit of observation of this dataset is one row per mutation.\n",
    "\n",
    "* This is similar to a task that one of us tackled at work. You can answer the question with the information provided below or using the (partial) data dictionary file at this link: https://drive.google.com/file/d/1lx9yHdlcqmU_OlHiTUXKC_LQDqYBypH_/view?usp=sharing. Our goal is to see that you can put together a sensible plan, implement a solid parsing strategy, and document and justify the decisions that you made."
   ]
  },
  {
   "cell_type": "markdown",
   "metadata": {
    "collapsed": true,
    "id": "vxoh6uLEg7Tr"
   },
   "source": [
    "### VCF file description (Summarized from version 4.1)\n",
    "\n",
    "```\n",
    "* The VCF specification:\n",
    "\n",
    "VCF is a text file format which contains meta-information lines, a header line, and then data lines each containing information about a position in the genome. The format also can contain genotype information on samples for each position.\n",
    "\n",
    "* Fixed fields:\n",
    "\n",
    "There are 8 fixed fields per record. All data lines are **tab-delimited**. In all cases, missing values are specified with a dot (‘.’). \n",
    "\n",
    "1. CHROM - chromosome number\n",
    "2. POS - position DNA nuceleotide count (bases) along the chromosome\n",
    "3. ID - The unique identifier for each mutation\n",
    "4. REF - reference base(s)\n",
    "5. ALT - alternate base(s)\n",
    "6. FILTER - filter status\n",
    "7. QUAL - quality\n",
    "8. INFO - a semicolon-separated series of keys with values in the format: <key>=<data>\n",
    "\n",
    "```\n",
    "### Applicable INFO field specifications\n",
    "\n",
    "```\n",
    "GENEINFO = <Gene name>\n",
    "CLNSIG =  <Clinical significance>\n",
    "CLNDN = <Disease name>\n",
    "```\n",
    "\n",
    "### Sample ClinVar data (vcf file format - not exactly the same as the file to download!)\n",
    "\n",
    "```\n",
    "##fileformat=VCFv4.1\n",
    "##fileDate=2019-03-19\n",
    "##source=ClinVar\n",
    "##reference=GRCh38\t\t\t\t\t\t\t\n",
    "#CHROM\tPOS\tID\tREF\tALT\tQUAL\tFILTER\tINFO\n",
    "1\t949523\trs786201005\tC\tT\t.\t.\tGENEINFO=ISG15;CLNSIG=5\n",
    "1\t949696\trs672601345\tC\tCG\t.\t.\tGENEINFO=ISG15;CLNSIG=5;CLNDN=Cancer\n",
    "1\t949739\trs672601312\tG\tT\t.\t.\tGENEINFO=ISG15;CLNDBN=Cancer\n",
    "1\t955597\trs115173026\tG\tT\t.\t.\tGENEINFO=AGRN;CLNSIG=2; CLNDN=Cancer\n",
    "1\t955619\trs201073369\tG\tC\t.\t.\tGENEINFO=AGG;CLNDN=Heart_dis \n",
    "1\t957640\trs6657048\tC\tT\t.\t.\tGENEINFO=AGG;CLNSIG=3;CLNDN=Heart_dis \n",
    "1\t976059\trs544749044\tC\tT\t.\t.\tGENEINFO=AGG;CLNSIG=0;CLNDN=Heart_dis \n",
    "```"
   ]
  },
  {
   "cell_type": "code",
   "execution_count": 17,
   "metadata": {},
   "outputs": [],
   "source": [
    "import pandas as pd"
   ]
  },
  {
   "cell_type": "code",
   "execution_count": 18,
   "metadata": {
    "id": "qPhDns3zg7Tr"
   },
   "outputs": [
    {
     "data": {
      "text/html": [
       "<div>\n",
       "<style scoped>\n",
       "    .dataframe tbody tr th:only-of-type {\n",
       "        vertical-align: middle;\n",
       "    }\n",
       "\n",
       "    .dataframe tbody tr th {\n",
       "        vertical-align: top;\n",
       "    }\n",
       "\n",
       "    .dataframe thead th {\n",
       "        text-align: right;\n",
       "    }\n",
       "</style>\n",
       "<table border=\"1\" class=\"dataframe\">\n",
       "  <thead>\n",
       "    <tr style=\"text-align: right;\">\n",
       "      <th></th>\n",
       "      <th>CHROM</th>\n",
       "      <th>POS</th>\n",
       "      <th>ID</th>\n",
       "      <th>REF</th>\n",
       "      <th>ALT</th>\n",
       "      <th>FILTER</th>\n",
       "      <th>QUAL</th>\n",
       "      <th>INFO</th>\n",
       "    </tr>\n",
       "  </thead>\n",
       "  <tbody>\n",
       "  </tbody>\n",
       "</table>\n",
       "</div>"
      ],
      "text/plain": [
       "Empty DataFrame\n",
       "Columns: [CHROM, POS, ID, REF, ALT, FILTER, QUAL, INFO]\n",
       "Index: []"
      ]
     },
     "execution_count": 18,
     "metadata": {},
     "output_type": "execute_result"
    }
   ],
   "source": [
    "# 4) Your code here - can use as many code blocks as you would like\n",
    "\n",
    "df = pd.DataFrame(columns = [\"CHROM\", \"POS\", \"ID\", \"REF\", \"ALT\", \"FILTER\",\n",
    "                             \"QUAL\", \"INFO\"])\n",
    "df"
   ]
  },
  {
   "cell_type": "code",
   "execution_count": 19,
   "metadata": {},
   "outputs": [],
   "source": [
    "# start working on line 28, real data from there\n",
    "\n",
    "def read_vcf(file_path, df):\n",
    "    with open(file_path) as input_file:\n",
    "        for index, line in enumerate(input_file, 1):            \n",
    "            if (index > 28):\n",
    "                temp_row = line.split(\"\\t\")\n",
    "                df.loc[len(df.index)] = temp_row"
   ]
  },
  {
   "cell_type": "code",
   "execution_count": 20,
   "metadata": {},
   "outputs": [],
   "source": [
    "read_vcf(\"clinvar_final.txt\", df)"
   ]
  },
  {
   "cell_type": "code",
   "execution_count": 21,
   "metadata": {},
   "outputs": [
    {
     "data": {
      "text/plain": [
       "102321"
      ]
     },
     "execution_count": 21,
     "metadata": {},
     "output_type": "execute_result"
    }
   ],
   "source": [
    "df.index.size"
   ]
  },
  {
   "cell_type": "code",
   "execution_count": 22,
   "metadata": {},
   "outputs": [],
   "source": [
    "df_ori = df.copy()"
   ]
  },
  {
   "cell_type": "code",
   "execution_count": 23,
   "metadata": {},
   "outputs": [
    {
     "data": {
      "text/html": [
       "<div>\n",
       "<style scoped>\n",
       "    .dataframe tbody tr th:only-of-type {\n",
       "        vertical-align: middle;\n",
       "    }\n",
       "\n",
       "    .dataframe tbody tr th {\n",
       "        vertical-align: top;\n",
       "    }\n",
       "\n",
       "    .dataframe thead th {\n",
       "        text-align: right;\n",
       "    }\n",
       "</style>\n",
       "<table border=\"1\" class=\"dataframe\">\n",
       "  <thead>\n",
       "    <tr style=\"text-align: right;\">\n",
       "      <th></th>\n",
       "      <th>CHROM</th>\n",
       "      <th>POS</th>\n",
       "      <th>ID</th>\n",
       "      <th>REF</th>\n",
       "      <th>ALT</th>\n",
       "      <th>FILTER</th>\n",
       "      <th>QUAL</th>\n",
       "      <th>INFO</th>\n",
       "    </tr>\n",
       "  </thead>\n",
       "  <tbody>\n",
       "    <tr>\n",
       "      <th>0</th>\n",
       "      <td>1</td>\n",
       "      <td>1014O42</td>\n",
       "      <td>475283</td>\n",
       "      <td>G</td>\n",
       "      <td>A</td>\n",
       "      <td>.</td>\n",
       "      <td>.</td>\n",
       "      <td>AF_ESP=0.00546;AF_EXAC=0.00165;AF_TGP=0.00619;...</td>\n",
       "    </tr>\n",
       "    <tr>\n",
       "      <th>1</th>\n",
       "      <td>1</td>\n",
       "      <td>1O14122</td>\n",
       "      <td>542074</td>\n",
       "      <td>C</td>\n",
       "      <td>T</td>\n",
       "      <td>.</td>\n",
       "      <td>.</td>\n",
       "      <td>AF_ESP=0.00015;AF_EXAC=0.00010;ALLELEID=514926...</td>\n",
       "    </tr>\n",
       "    <tr>\n",
       "      <th>2</th>\n",
       "      <td>1</td>\n",
       "      <td>1014143</td>\n",
       "      <td>183381</td>\n",
       "      <td>C</td>\n",
       "      <td>T</td>\n",
       "      <td>.</td>\n",
       "      <td>.</td>\n",
       "      <td>ALLELEID=181485;CLNDISDB=MedGen:C4015293,OMIM:...</td>\n",
       "    </tr>\n",
       "    <tr>\n",
       "      <th>3</th>\n",
       "      <td>1</td>\n",
       "      <td>1014179</td>\n",
       "      <td>542075</td>\n",
       "      <td>C</td>\n",
       "      <td>T</td>\n",
       "      <td>.</td>\n",
       "      <td>.</td>\n",
       "      <td>ALLELEID=514896;CLNDISDB=MedGen:C4015293,OMIM:...</td>\n",
       "    </tr>\n",
       "    <tr>\n",
       "      <th>4</th>\n",
       "      <td>1</td>\n",
       "      <td>1014217</td>\n",
       "      <td>475278</td>\n",
       "      <td>C</td>\n",
       "      <td>T</td>\n",
       "      <td>.</td>\n",
       "      <td>.</td>\n",
       "      <td>AF_ESP=0.00515;AF_EXAC=0.00831;AF_TGP=0.00339;...</td>\n",
       "    </tr>\n",
       "  </tbody>\n",
       "</table>\n",
       "</div>"
      ],
      "text/plain": [
       "  CHROM      POS      ID REF ALT FILTER QUAL  \\\n",
       "0     1  1014O42  475283   G   A      .    .   \n",
       "1     1  1O14122  542074   C   T      .    .   \n",
       "2     1  1014143  183381   C   T      .    .   \n",
       "3     1  1014179  542075   C   T      .    .   \n",
       "4     1  1014217  475278   C   T      .    .   \n",
       "\n",
       "                                                INFO  \n",
       "0  AF_ESP=0.00546;AF_EXAC=0.00165;AF_TGP=0.00619;...  \n",
       "1  AF_ESP=0.00015;AF_EXAC=0.00010;ALLELEID=514926...  \n",
       "2  ALLELEID=181485;CLNDISDB=MedGen:C4015293,OMIM:...  \n",
       "3  ALLELEID=514896;CLNDISDB=MedGen:C4015293,OMIM:...  \n",
       "4  AF_ESP=0.00515;AF_EXAC=0.00831;AF_TGP=0.00339;...  "
      ]
     },
     "execution_count": 23,
     "metadata": {},
     "output_type": "execute_result"
    }
   ],
   "source": [
    "df.head()"
   ]
  },
  {
   "cell_type": "code",
   "execution_count": 24,
   "metadata": {},
   "outputs": [],
   "source": [
    "df[\"FILTER\"] = df[\"FILTER\"].replace(\".\", \"NOT_GIVEN\")"
   ]
  },
  {
   "cell_type": "code",
   "execution_count": 25,
   "metadata": {},
   "outputs": [],
   "source": [
    "df[\"QUAL\"] = df[\"QUAL\"].replace(\".\", \"NOT_GIVEN\")"
   ]
  },
  {
   "cell_type": "code",
   "execution_count": 26,
   "metadata": {},
   "outputs": [
    {
     "data": {
      "text/plain": [
       "FILTER     QUAL     \n",
       "NOT_GIVEN  NOT_GIVEN    102321\n",
       "dtype: int64"
      ]
     },
     "execution_count": 26,
     "metadata": {},
     "output_type": "execute_result"
    }
   ],
   "source": [
    "df[[\"FILTER\", \"QUAL\"]].value_counts()"
   ]
  },
  {
   "cell_type": "code",
   "execution_count": 27,
   "metadata": {},
   "outputs": [
    {
     "data": {
      "text/html": [
       "<div>\n",
       "<style scoped>\n",
       "    .dataframe tbody tr th:only-of-type {\n",
       "        vertical-align: middle;\n",
       "    }\n",
       "\n",
       "    .dataframe tbody tr th {\n",
       "        vertical-align: top;\n",
       "    }\n",
       "\n",
       "    .dataframe thead th {\n",
       "        text-align: right;\n",
       "    }\n",
       "</style>\n",
       "<table border=\"1\" class=\"dataframe\">\n",
       "  <thead>\n",
       "    <tr style=\"text-align: right;\">\n",
       "      <th></th>\n",
       "      <th>CHROM</th>\n",
       "      <th>POS</th>\n",
       "      <th>ID</th>\n",
       "      <th>REF</th>\n",
       "      <th>ALT</th>\n",
       "      <th>FILTER</th>\n",
       "      <th>QUAL</th>\n",
       "      <th>INFO</th>\n",
       "    </tr>\n",
       "  </thead>\n",
       "  <tbody>\n",
       "    <tr>\n",
       "      <th>0</th>\n",
       "      <td>1</td>\n",
       "      <td>1014O42</td>\n",
       "      <td>475283</td>\n",
       "      <td>G</td>\n",
       "      <td>A</td>\n",
       "      <td>NOT_GIVEN</td>\n",
       "      <td>NOT_GIVEN</td>\n",
       "      <td>AF_ESP=0.00546;AF_EXAC=0.00165;AF_TGP=0.00619;...</td>\n",
       "    </tr>\n",
       "    <tr>\n",
       "      <th>1</th>\n",
       "      <td>1</td>\n",
       "      <td>1O14122</td>\n",
       "      <td>542074</td>\n",
       "      <td>C</td>\n",
       "      <td>T</td>\n",
       "      <td>NOT_GIVEN</td>\n",
       "      <td>NOT_GIVEN</td>\n",
       "      <td>AF_ESP=0.00015;AF_EXAC=0.00010;ALLELEID=514926...</td>\n",
       "    </tr>\n",
       "    <tr>\n",
       "      <th>2</th>\n",
       "      <td>1</td>\n",
       "      <td>1014143</td>\n",
       "      <td>183381</td>\n",
       "      <td>C</td>\n",
       "      <td>T</td>\n",
       "      <td>NOT_GIVEN</td>\n",
       "      <td>NOT_GIVEN</td>\n",
       "      <td>ALLELEID=181485;CLNDISDB=MedGen:C4015293,OMIM:...</td>\n",
       "    </tr>\n",
       "    <tr>\n",
       "      <th>3</th>\n",
       "      <td>1</td>\n",
       "      <td>1014179</td>\n",
       "      <td>542075</td>\n",
       "      <td>C</td>\n",
       "      <td>T</td>\n",
       "      <td>NOT_GIVEN</td>\n",
       "      <td>NOT_GIVEN</td>\n",
       "      <td>ALLELEID=514896;CLNDISDB=MedGen:C4015293,OMIM:...</td>\n",
       "    </tr>\n",
       "    <tr>\n",
       "      <th>4</th>\n",
       "      <td>1</td>\n",
       "      <td>1014217</td>\n",
       "      <td>475278</td>\n",
       "      <td>C</td>\n",
       "      <td>T</td>\n",
       "      <td>NOT_GIVEN</td>\n",
       "      <td>NOT_GIVEN</td>\n",
       "      <td>AF_ESP=0.00515;AF_EXAC=0.00831;AF_TGP=0.00339;...</td>\n",
       "    </tr>\n",
       "  </tbody>\n",
       "</table>\n",
       "</div>"
      ],
      "text/plain": [
       "  CHROM      POS      ID REF ALT     FILTER       QUAL  \\\n",
       "0     1  1014O42  475283   G   A  NOT_GIVEN  NOT_GIVEN   \n",
       "1     1  1O14122  542074   C   T  NOT_GIVEN  NOT_GIVEN   \n",
       "2     1  1014143  183381   C   T  NOT_GIVEN  NOT_GIVEN   \n",
       "3     1  1014179  542075   C   T  NOT_GIVEN  NOT_GIVEN   \n",
       "4     1  1014217  475278   C   T  NOT_GIVEN  NOT_GIVEN   \n",
       "\n",
       "                                                INFO  \n",
       "0  AF_ESP=0.00546;AF_EXAC=0.00165;AF_TGP=0.00619;...  \n",
       "1  AF_ESP=0.00015;AF_EXAC=0.00010;ALLELEID=514926...  \n",
       "2  ALLELEID=181485;CLNDISDB=MedGen:C4015293,OMIM:...  \n",
       "3  ALLELEID=514896;CLNDISDB=MedGen:C4015293,OMIM:...  \n",
       "4  AF_ESP=0.00515;AF_EXAC=0.00831;AF_TGP=0.00339;...  "
      ]
     },
     "execution_count": 27,
     "metadata": {},
     "output_type": "execute_result"
    }
   ],
   "source": [
    "df.head()"
   ]
  },
  {
   "cell_type": "code",
   "execution_count": 28,
   "metadata": {},
   "outputs": [
    {
     "data": {
      "text/plain": [
       "Index(['37025629', '73385903', '149172318', '92478757', '178713381',\n",
       "       '47414420', '241500602', '20651801', '165294040', '168293284',\n",
       "       '55058666', '120992007', '51032510', '158611131', '70955832',\n",
       "       '124746755', '24118973', '160039373', '50346870', '211492048',\n",
       "       '178698916', '47806285', '10376834', '172666616', '176119435',\n",
       "       '46709583', '37025608', '178535858', '103005900', '37050632',\n",
       "       '120992050', '115768745', '115725557', '47806501', '212897349',\n",
       "       '6469122', '47806845', '150927631', '40073531', '37000952', '173826665',\n",
       "       '47799171', '55039879', '47783497', '47475271', '151546001',\n",
       "       '218346056', '47429957', '47806751', '47463086', '37028863', '37047640',\n",
       "       '47805601', '49920697', '47806571', '36993584', '47806769', '165294010',\n",
       "       '46356140', '37017508', '240757423', '178769665', '47466813',\n",
       "       '47800946', '31526105', '47803500', '47799601', '47470947', '47475073',\n",
       "       '154869723', '227312926', '47798888', '37025974', '144399645',\n",
       "       '47806628', '47403345', '37020335', '47403373', '47403410', '38492649',\n",
       "       '47806253', '47799788', '8733975', '36996655', '47806603', '47806652',\n",
       "       '47408449', '86215022', '178677772', '84449762', '47806315',\n",
       "       '214809525', '158614313', '166054637', '47800787', '37014545',\n",
       "       '36996700', '47806576', '188996179', '47806495'],\n",
       "      dtype='object')"
      ]
     },
     "execution_count": 28,
     "metadata": {},
     "output_type": "execute_result"
    }
   ],
   "source": [
    "first_100_harmful = df[\"POS\"].value_counts()[:100]\n",
    "first_100_harmful_value = first_100_harmful.index\n",
    "first_100_harmful_value"
   ]
  },
  {
   "cell_type": "code",
   "execution_count": 29,
   "metadata": {},
   "outputs": [
    {
     "data": {
      "text/html": [
       "<div>\n",
       "<style scoped>\n",
       "    .dataframe tbody tr th:only-of-type {\n",
       "        vertical-align: middle;\n",
       "    }\n",
       "\n",
       "    .dataframe tbody tr th {\n",
       "        vertical-align: top;\n",
       "    }\n",
       "\n",
       "    .dataframe thead th {\n",
       "        text-align: right;\n",
       "    }\n",
       "</style>\n",
       "<table border=\"1\" class=\"dataframe\">\n",
       "  <thead>\n",
       "    <tr style=\"text-align: right;\">\n",
       "      <th></th>\n",
       "      <th>CHROM</th>\n",
       "      <th>POS</th>\n",
       "      <th>ID</th>\n",
       "      <th>REF</th>\n",
       "      <th>ALT</th>\n",
       "      <th>FILTER</th>\n",
       "      <th>QUAL</th>\n",
       "      <th>INFO</th>\n",
       "    </tr>\n",
       "  </thead>\n",
       "  <tbody>\n",
       "    <tr>\n",
       "      <th>1907</th>\n",
       "      <td>1</td>\n",
       "      <td>6469122</td>\n",
       "      <td>297949</td>\n",
       "      <td>T</td>\n",
       "      <td>TTCC</td>\n",
       "      <td>NOT_GIVEN</td>\n",
       "      <td>NOT_GIVEN</td>\n",
       "      <td>AF_TGP=0.09724;ALLELEID=281687;CLNDISDB=MedGen...</td>\n",
       "    </tr>\n",
       "    <tr>\n",
       "      <th>1908</th>\n",
       "      <td>1</td>\n",
       "      <td>6469122</td>\n",
       "      <td>297950</td>\n",
       "      <td>T</td>\n",
       "      <td>TTCCTCC</td>\n",
       "      <td>NOT_GIVEN</td>\n",
       "      <td>NOT_GIVEN</td>\n",
       "      <td>AF_TGP=0.09724;ALLELEID=282892;CLNDISDB=MedGen...</td>\n",
       "    </tr>\n",
       "    <tr>\n",
       "      <th>1909</th>\n",
       "      <td>1</td>\n",
       "      <td>6469122</td>\n",
       "      <td>194979</td>\n",
       "      <td>TTCC</td>\n",
       "      <td>T</td>\n",
       "      <td>NOT_GIVEN</td>\n",
       "      <td>NOT_GIVEN</td>\n",
       "      <td>AF_TGP=0.09724;ALLELEID=192141;CLNDISDB=MedGen...</td>\n",
       "    </tr>\n",
       "    <tr>\n",
       "      <th>1910</th>\n",
       "      <td>1</td>\n",
       "      <td>6469122</td>\n",
       "      <td>194977</td>\n",
       "      <td>TTCCTCC</td>\n",
       "      <td>T</td>\n",
       "      <td>NOT_GIVEN</td>\n",
       "      <td>NOT_GIVEN</td>\n",
       "      <td>AF_TGP=0.09724;ALLELEID=192139;CLNDISDB=MedGen...</td>\n",
       "    </tr>\n",
       "    <tr>\n",
       "      <th>1911</th>\n",
       "      <td>1</td>\n",
       "      <td>6469122</td>\n",
       "      <td>514904</td>\n",
       "      <td>TTCCTCCTCCTCCTCCTCC</td>\n",
       "      <td>T</td>\n",
       "      <td>NOT_GIVEN</td>\n",
       "      <td>NOT_GIVEN</td>\n",
       "      <td>AF_TGP=0.09724;ALLELEID=498586;CLNDISDB=MedGen...</td>\n",
       "    </tr>\n",
       "  </tbody>\n",
       "</table>\n",
       "</div>"
      ],
      "text/plain": [
       "     CHROM      POS      ID                  REF      ALT     FILTER  \\\n",
       "1907     1  6469122  297949                    T     TTCC  NOT_GIVEN   \n",
       "1908     1  6469122  297950                    T  TTCCTCC  NOT_GIVEN   \n",
       "1909     1  6469122  194979                 TTCC        T  NOT_GIVEN   \n",
       "1910     1  6469122  194977              TTCCTCC        T  NOT_GIVEN   \n",
       "1911     1  6469122  514904  TTCCTCCTCCTCCTCCTCC        T  NOT_GIVEN   \n",
       "\n",
       "           QUAL                                               INFO  \n",
       "1907  NOT_GIVEN  AF_TGP=0.09724;ALLELEID=281687;CLNDISDB=MedGen...  \n",
       "1908  NOT_GIVEN  AF_TGP=0.09724;ALLELEID=282892;CLNDISDB=MedGen...  \n",
       "1909  NOT_GIVEN  AF_TGP=0.09724;ALLELEID=192141;CLNDISDB=MedGen...  \n",
       "1910  NOT_GIVEN  AF_TGP=0.09724;ALLELEID=192139;CLNDISDB=MedGen...  \n",
       "1911  NOT_GIVEN  AF_TGP=0.09724;ALLELEID=498586;CLNDISDB=MedGen...  "
      ]
     },
     "execution_count": 29,
     "metadata": {},
     "output_type": "execute_result"
    }
   ],
   "source": [
    "df_harmful = df[df[\"POS\"].isin(first_100_harmful_value)]\n",
    "df_harmful.head()"
   ]
  },
  {
   "cell_type": "code",
   "execution_count": 30,
   "metadata": {},
   "outputs": [
    {
     "data": {
      "text/plain": [
       "564"
      ]
     },
     "execution_count": 30,
     "metadata": {},
     "output_type": "execute_result"
    }
   ],
   "source": [
    "df_harmful.index.size"
   ]
  },
  {
   "cell_type": "code",
   "execution_count": 31,
   "metadata": {},
   "outputs": [],
   "source": [
    "series_info = df_harmful[\"INFO\"].str.split(\";\")"
   ]
  },
  {
   "cell_type": "code",
   "execution_count": 32,
   "metadata": {},
   "outputs": [],
   "source": [
    "for index, values in zip(series_info.index, series_info.values):\n",
    "    for cell in values:\n",
    "        if \"CLNSIG\" in cell:\n",
    "            series_info[index] = cell\n",
    "            break\n",
    "        else: \n",
    "            series_info[index] = \"Not_Given\""
   ]
  },
  {
   "cell_type": "code",
   "execution_count": 33,
   "metadata": {},
   "outputs": [],
   "source": [
    "df_CLNSIG = series_info.to_frame()"
   ]
  },
  {
   "cell_type": "code",
   "execution_count": 34,
   "metadata": {},
   "outputs": [],
   "source": [
    "df_harmful_remove_info = df_harmful.drop(columns = [\"INFO\"]).copy()"
   ]
  },
  {
   "cell_type": "code",
   "execution_count": 35,
   "metadata": {},
   "outputs": [],
   "source": [
    "df_harmful_remove_info[\"CLNSIG\"] = df_CLNSIG[\"INFO\"]"
   ]
  },
  {
   "cell_type": "code",
   "execution_count": 36,
   "metadata": {},
   "outputs": [
    {
     "data": {
      "text/html": [
       "<div>\n",
       "<style scoped>\n",
       "    .dataframe tbody tr th:only-of-type {\n",
       "        vertical-align: middle;\n",
       "    }\n",
       "\n",
       "    .dataframe tbody tr th {\n",
       "        vertical-align: top;\n",
       "    }\n",
       "\n",
       "    .dataframe thead th {\n",
       "        text-align: right;\n",
       "    }\n",
       "</style>\n",
       "<table border=\"1\" class=\"dataframe\">\n",
       "  <thead>\n",
       "    <tr style=\"text-align: right;\">\n",
       "      <th></th>\n",
       "      <th>CHROM</th>\n",
       "      <th>POS</th>\n",
       "      <th>ID</th>\n",
       "      <th>REF</th>\n",
       "      <th>ALT</th>\n",
       "      <th>FILTER</th>\n",
       "      <th>QUAL</th>\n",
       "      <th>CLNSIG</th>\n",
       "    </tr>\n",
       "  </thead>\n",
       "  <tbody>\n",
       "    <tr>\n",
       "      <th>1907</th>\n",
       "      <td>1</td>\n",
       "      <td>6469122</td>\n",
       "      <td>297949</td>\n",
       "      <td>T</td>\n",
       "      <td>TTCC</td>\n",
       "      <td>NOT_GIVEN</td>\n",
       "      <td>NOT_GIVEN</td>\n",
       "      <td>CLNSIG=Conflicting_interpretations_of_pathogen...</td>\n",
       "    </tr>\n",
       "    <tr>\n",
       "      <th>1908</th>\n",
       "      <td>1</td>\n",
       "      <td>6469122</td>\n",
       "      <td>297950</td>\n",
       "      <td>T</td>\n",
       "      <td>TTCCTCC</td>\n",
       "      <td>NOT_GIVEN</td>\n",
       "      <td>NOT_GIVEN</td>\n",
       "      <td>CLNSIG=Conflicting_interpretations_of_pathogen...</td>\n",
       "    </tr>\n",
       "    <tr>\n",
       "      <th>1909</th>\n",
       "      <td>1</td>\n",
       "      <td>6469122</td>\n",
       "      <td>194979</td>\n",
       "      <td>TTCC</td>\n",
       "      <td>T</td>\n",
       "      <td>NOT_GIVEN</td>\n",
       "      <td>NOT_GIVEN</td>\n",
       "      <td>CLNSIG=Benign/Likely_benign</td>\n",
       "    </tr>\n",
       "    <tr>\n",
       "      <th>1910</th>\n",
       "      <td>1</td>\n",
       "      <td>6469122</td>\n",
       "      <td>194977</td>\n",
       "      <td>TTCCTCC</td>\n",
       "      <td>T</td>\n",
       "      <td>NOT_GIVEN</td>\n",
       "      <td>NOT_GIVEN</td>\n",
       "      <td>CLNSIG=Benign</td>\n",
       "    </tr>\n",
       "    <tr>\n",
       "      <th>1911</th>\n",
       "      <td>1</td>\n",
       "      <td>6469122</td>\n",
       "      <td>514904</td>\n",
       "      <td>TTCCTCCTCCTCCTCCTCC</td>\n",
       "      <td>T</td>\n",
       "      <td>NOT_GIVEN</td>\n",
       "      <td>NOT_GIVEN</td>\n",
       "      <td>CLNSIG=Likely_benign</td>\n",
       "    </tr>\n",
       "    <tr>\n",
       "      <th>2491</th>\n",
       "      <td>1</td>\n",
       "      <td>10376834</td>\n",
       "      <td>291586</td>\n",
       "      <td>A</td>\n",
       "      <td>AAC</td>\n",
       "      <td>NOT_GIVEN</td>\n",
       "      <td>NOT_GIVEN</td>\n",
       "      <td>CLNSIG=Uncertain_significance</td>\n",
       "    </tr>\n",
       "    <tr>\n",
       "      <th>2492</th>\n",
       "      <td>1</td>\n",
       "      <td>10376834</td>\n",
       "      <td>291587</td>\n",
       "      <td>A</td>\n",
       "      <td>AACAC</td>\n",
       "      <td>NOT_GIVEN</td>\n",
       "      <td>NOT_GIVEN</td>\n",
       "      <td>CLNSIG=Uncertain_significance</td>\n",
       "    </tr>\n",
       "    <tr>\n",
       "      <th>2493</th>\n",
       "      <td>1</td>\n",
       "      <td>10376834</td>\n",
       "      <td>291588</td>\n",
       "      <td>A</td>\n",
       "      <td>AACACAC</td>\n",
       "      <td>NOT_GIVEN</td>\n",
       "      <td>NOT_GIVEN</td>\n",
       "      <td>CLNSIG=Uncertain_significance</td>\n",
       "    </tr>\n",
       "    <tr>\n",
       "      <th>2494</th>\n",
       "      <td>1</td>\n",
       "      <td>10376834</td>\n",
       "      <td>291589</td>\n",
       "      <td>AAC</td>\n",
       "      <td>A</td>\n",
       "      <td>NOT_GIVEN</td>\n",
       "      <td>NOT_GIVEN</td>\n",
       "      <td>CLNSIG=Benign</td>\n",
       "    </tr>\n",
       "    <tr>\n",
       "      <th>2495</th>\n",
       "      <td>1</td>\n",
       "      <td>10376834</td>\n",
       "      <td>291590</td>\n",
       "      <td>AACAC</td>\n",
       "      <td>A</td>\n",
       "      <td>NOT_GIVEN</td>\n",
       "      <td>NOT_GIVEN</td>\n",
       "      <td>CLNSIG=Uncertain_significance</td>\n",
       "    </tr>\n",
       "  </tbody>\n",
       "</table>\n",
       "</div>"
      ],
      "text/plain": [
       "     CHROM       POS      ID                  REF      ALT     FILTER  \\\n",
       "1907     1   6469122  297949                    T     TTCC  NOT_GIVEN   \n",
       "1908     1   6469122  297950                    T  TTCCTCC  NOT_GIVEN   \n",
       "1909     1   6469122  194979                 TTCC        T  NOT_GIVEN   \n",
       "1910     1   6469122  194977              TTCCTCC        T  NOT_GIVEN   \n",
       "1911     1   6469122  514904  TTCCTCCTCCTCCTCCTCC        T  NOT_GIVEN   \n",
       "2491     1  10376834  291586                    A      AAC  NOT_GIVEN   \n",
       "2492     1  10376834  291587                    A    AACAC  NOT_GIVEN   \n",
       "2493     1  10376834  291588                    A  AACACAC  NOT_GIVEN   \n",
       "2494     1  10376834  291589                  AAC        A  NOT_GIVEN   \n",
       "2495     1  10376834  291590                AACAC        A  NOT_GIVEN   \n",
       "\n",
       "           QUAL                                             CLNSIG  \n",
       "1907  NOT_GIVEN  CLNSIG=Conflicting_interpretations_of_pathogen...  \n",
       "1908  NOT_GIVEN  CLNSIG=Conflicting_interpretations_of_pathogen...  \n",
       "1909  NOT_GIVEN                        CLNSIG=Benign/Likely_benign  \n",
       "1910  NOT_GIVEN                                      CLNSIG=Benign  \n",
       "1911  NOT_GIVEN                               CLNSIG=Likely_benign  \n",
       "2491  NOT_GIVEN                      CLNSIG=Uncertain_significance  \n",
       "2492  NOT_GIVEN                      CLNSIG=Uncertain_significance  \n",
       "2493  NOT_GIVEN                      CLNSIG=Uncertain_significance  \n",
       "2494  NOT_GIVEN                                      CLNSIG=Benign  \n",
       "2495  NOT_GIVEN                      CLNSIG=Uncertain_significance  "
      ]
     },
     "execution_count": 36,
     "metadata": {},
     "output_type": "execute_result"
    }
   ],
   "source": [
    "df_harmful_remove_info.head(10)"
   ]
  },
  {
   "cell_type": "code",
   "execution_count": 37,
   "metadata": {},
   "outputs": [
    {
     "data": {
      "text/html": [
       "<div>\n",
       "<style scoped>\n",
       "    .dataframe tbody tr th:only-of-type {\n",
       "        vertical-align: middle;\n",
       "    }\n",
       "\n",
       "    .dataframe tbody tr th {\n",
       "        vertical-align: top;\n",
       "    }\n",
       "\n",
       "    .dataframe thead th {\n",
       "        text-align: right;\n",
       "    }\n",
       "</style>\n",
       "<table border=\"1\" class=\"dataframe\">\n",
       "  <thead>\n",
       "    <tr style=\"text-align: right;\">\n",
       "      <th></th>\n",
       "      <th>CHROM</th>\n",
       "      <th>POS</th>\n",
       "      <th>ID</th>\n",
       "      <th>REF</th>\n",
       "      <th>ALT</th>\n",
       "      <th>FILTER</th>\n",
       "      <th>QUAL</th>\n",
       "      <th>CLNSIG</th>\n",
       "    </tr>\n",
       "  </thead>\n",
       "  <tbody>\n",
       "    <tr>\n",
       "      <th>1907</th>\n",
       "      <td>1</td>\n",
       "      <td>6469122</td>\n",
       "      <td>297949</td>\n",
       "      <td>T</td>\n",
       "      <td>TTCC</td>\n",
       "      <td>NOT_GIVEN</td>\n",
       "      <td>NOT_GIVEN</td>\n",
       "      <td>CLNSIG=Conflicting_interpretations_of_pathogen...</td>\n",
       "    </tr>\n",
       "    <tr>\n",
       "      <th>1908</th>\n",
       "      <td>1</td>\n",
       "      <td>6469122</td>\n",
       "      <td>297950</td>\n",
       "      <td>T</td>\n",
       "      <td>TTCCTCC</td>\n",
       "      <td>NOT_GIVEN</td>\n",
       "      <td>NOT_GIVEN</td>\n",
       "      <td>CLNSIG=Conflicting_interpretations_of_pathogen...</td>\n",
       "    </tr>\n",
       "    <tr>\n",
       "      <th>1909</th>\n",
       "      <td>1</td>\n",
       "      <td>6469122</td>\n",
       "      <td>194979</td>\n",
       "      <td>TTCC</td>\n",
       "      <td>T</td>\n",
       "      <td>NOT_GIVEN</td>\n",
       "      <td>NOT_GIVEN</td>\n",
       "      <td>CLNSIG=Benign/Likely_benign</td>\n",
       "    </tr>\n",
       "    <tr>\n",
       "      <th>1910</th>\n",
       "      <td>1</td>\n",
       "      <td>6469122</td>\n",
       "      <td>194977</td>\n",
       "      <td>TTCCTCC</td>\n",
       "      <td>T</td>\n",
       "      <td>NOT_GIVEN</td>\n",
       "      <td>NOT_GIVEN</td>\n",
       "      <td>CLNSIG=Benign</td>\n",
       "    </tr>\n",
       "    <tr>\n",
       "      <th>1911</th>\n",
       "      <td>1</td>\n",
       "      <td>6469122</td>\n",
       "      <td>514904</td>\n",
       "      <td>TTCCTCCTCCTCCTCCTCC</td>\n",
       "      <td>T</td>\n",
       "      <td>NOT_GIVEN</td>\n",
       "      <td>NOT_GIVEN</td>\n",
       "      <td>CLNSIG=Likely_benign</td>\n",
       "    </tr>\n",
       "    <tr>\n",
       "      <th>...</th>\n",
       "      <td>...</td>\n",
       "      <td>...</td>\n",
       "      <td>...</td>\n",
       "      <td>...</td>\n",
       "      <td>...</td>\n",
       "      <td>...</td>\n",
       "      <td>...</td>\n",
       "      <td>...</td>\n",
       "    </tr>\n",
       "    <tr>\n",
       "      <th>101214</th>\n",
       "      <td>3</td>\n",
       "      <td>150927631</td>\n",
       "      <td>343807</td>\n",
       "      <td>T</td>\n",
       "      <td>TAC</td>\n",
       "      <td>NOT_GIVEN</td>\n",
       "      <td>NOT_GIVEN</td>\n",
       "      <td>CLNSIG=Uncertain_significance</td>\n",
       "    </tr>\n",
       "    <tr>\n",
       "      <th>101215</th>\n",
       "      <td>3</td>\n",
       "      <td>150927631</td>\n",
       "      <td>343808</td>\n",
       "      <td>T</td>\n",
       "      <td>TACAC</td>\n",
       "      <td>NOT_GIVEN</td>\n",
       "      <td>NOT_GIVEN</td>\n",
       "      <td>CLNSIG=Uncertain_significance</td>\n",
       "    </tr>\n",
       "    <tr>\n",
       "      <th>101216</th>\n",
       "      <td>3</td>\n",
       "      <td>150927631</td>\n",
       "      <td>343809</td>\n",
       "      <td>TAC</td>\n",
       "      <td>T</td>\n",
       "      <td>NOT_GIVEN</td>\n",
       "      <td>NOT_GIVEN</td>\n",
       "      <td>CLNSIG=Benign</td>\n",
       "    </tr>\n",
       "    <tr>\n",
       "      <th>101217</th>\n",
       "      <td>3</td>\n",
       "      <td>150927631</td>\n",
       "      <td>343810</td>\n",
       "      <td>TACAC</td>\n",
       "      <td>T</td>\n",
       "      <td>NOT_GIVEN</td>\n",
       "      <td>NOT_GIVEN</td>\n",
       "      <td>CLNSIG=Uncertain_significance</td>\n",
       "    </tr>\n",
       "    <tr>\n",
       "      <th>101218</th>\n",
       "      <td>3</td>\n",
       "      <td>150927631</td>\n",
       "      <td>343811</td>\n",
       "      <td>TACACAC</td>\n",
       "      <td>T</td>\n",
       "      <td>NOT_GIVEN</td>\n",
       "      <td>NOT_GIVEN</td>\n",
       "      <td>CLNSIG=Uncertain_significance</td>\n",
       "    </tr>\n",
       "  </tbody>\n",
       "</table>\n",
       "<p>564 rows × 8 columns</p>\n",
       "</div>"
      ],
      "text/plain": [
       "       CHROM        POS      ID                  REF      ALT     FILTER  \\\n",
       "1907       1    6469122  297949                    T     TTCC  NOT_GIVEN   \n",
       "1908       1    6469122  297950                    T  TTCCTCC  NOT_GIVEN   \n",
       "1909       1    6469122  194979                 TTCC        T  NOT_GIVEN   \n",
       "1910       1    6469122  194977              TTCCTCC        T  NOT_GIVEN   \n",
       "1911       1    6469122  514904  TTCCTCCTCCTCCTCCTCC        T  NOT_GIVEN   \n",
       "...      ...        ...     ...                  ...      ...        ...   \n",
       "101214     3  150927631  343807                    T      TAC  NOT_GIVEN   \n",
       "101215     3  150927631  343808                    T    TACAC  NOT_GIVEN   \n",
       "101216     3  150927631  343809                  TAC        T  NOT_GIVEN   \n",
       "101217     3  150927631  343810                TACAC        T  NOT_GIVEN   \n",
       "101218     3  150927631  343811              TACACAC        T  NOT_GIVEN   \n",
       "\n",
       "             QUAL                                             CLNSIG  \n",
       "1907    NOT_GIVEN  CLNSIG=Conflicting_interpretations_of_pathogen...  \n",
       "1908    NOT_GIVEN  CLNSIG=Conflicting_interpretations_of_pathogen...  \n",
       "1909    NOT_GIVEN                        CLNSIG=Benign/Likely_benign  \n",
       "1910    NOT_GIVEN                                      CLNSIG=Benign  \n",
       "1911    NOT_GIVEN                               CLNSIG=Likely_benign  \n",
       "...           ...                                                ...  \n",
       "101214  NOT_GIVEN                      CLNSIG=Uncertain_significance  \n",
       "101215  NOT_GIVEN                      CLNSIG=Uncertain_significance  \n",
       "101216  NOT_GIVEN                                      CLNSIG=Benign  \n",
       "101217  NOT_GIVEN                      CLNSIG=Uncertain_significance  \n",
       "101218  NOT_GIVEN                      CLNSIG=Uncertain_significance  \n",
       "\n",
       "[564 rows x 8 columns]"
      ]
     },
     "execution_count": 37,
     "metadata": {},
     "output_type": "execute_result"
    }
   ],
   "source": [
    "final_frame = df_harmful_remove_info.copy()\n",
    "final_frame"
   ]
  },
  {
   "cell_type": "markdown",
   "metadata": {},
   "source": [
    "4.5) State in your answer how you define harmful mutations\n",
    "\n",
    "- I used `value_count` on column \"POS\" find the most 100 harmful mutations, and use those value to filter the original dataframe called `df_harmful`\n",
    "\n",
    "- Created a series useing df_harmful \"INFO\" column\n",
    "\n",
    "- Concatenated this serires with df_harmful\n",
    "\n",
    "- Displayed the new data frame"
   ]
  },
  {
   "cell_type": "markdown",
   "metadata": {},
   "source": [
    "4) Please Write your assumptions here:\n",
    "- Originally there were 102,321 lines of data\n",
    "- Filter Status and Quality variables were not given in the dataset\n",
    "- The POS indicates the harmful gene and mutation combinations. \n",
    "- 564 People have the dangerous gene and mutation combinations. \n",
    "- Final datset after cleansing consists of 564 rows x 8 columns "
   ]
  },
  {
   "cell_type": "markdown",
   "metadata": {},
   "source": [
    "4) Findings / What would you present to your boss?\n",
    "These are the POS with the most dangerous gene and mutation combinations: \n",
    "- POS 37025629: 31 People have this\n",
    "- POS 73385903: 13 People have this\n",
    "- POS 149172318: 13 People have this\n",
    "- POS 92478757: 11 People have this \n",
    "\n",
    "- Overall POS 37025629 is the most dangerous gene and mutation combination\n"
   ]
  },
  {
   "cell_type": "code",
   "execution_count": null,
   "metadata": {},
   "outputs": [],
   "source": []
  }
 ],
 "metadata": {
  "colab": {
   "provenance": []
  },
  "kernelspec": {
   "display_name": "Python 3 (ipykernel)",
   "language": "python",
   "name": "python3"
  },
  "language_info": {
   "codemirror_mode": {
    "name": "ipython",
    "version": 3
   },
   "file_extension": ".py",
   "mimetype": "text/x-python",
   "name": "python",
   "nbconvert_exporter": "python",
   "pygments_lexer": "ipython3",
   "version": "3.9.13"
  }
 },
 "nbformat": 4,
 "nbformat_minor": 1
}
